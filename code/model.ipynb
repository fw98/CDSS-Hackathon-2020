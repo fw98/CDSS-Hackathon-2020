{
 "cells": [
  {
   "cell_type": "code",
   "execution_count": 1,
   "metadata": {},
   "outputs": [
    {
     "name": "stderr",
     "output_type": "stream",
     "text": [
      "/usr/local/lib/python3.6/site-packages/h5py/__init__.py:36: FutureWarning: Conversion of the second argument of issubdtype from `float` to `np.floating` is deprecated. In future, it will be treated as `np.float64 == np.dtype(float).type`.\n",
      "  from ._conv import register_converters as _register_converters\n",
      "Using TensorFlow backend.\n"
     ]
    }
   ],
   "source": [
    "import numpy as np\n",
    "# import pandas as pd\n",
    "\n",
    "import keras\n",
    "from keras.preprocessing.text import one_hot,Tokenizer\n",
    "from keras.preprocessing.sequence import pad_sequences\n",
    "from keras.models import Sequential\n",
    "from keras.layers import Dense, Flatten, Embedding, Input, LSTM, Dropout, concatenate, GRU\n",
    "from keras.models import Model\n",
    "\n",
    "from sklearn.preprocessing import MinMaxScaler, MaxAbsScaler"
   ]
  },
  {
   "cell_type": "code",
   "execution_count": 2,
   "metadata": {},
   "outputs": [],
   "source": [
    "feature_dim = 53 - 6\n",
    "input_days = 50\n",
    "city_num = 7\n",
    "\n",
    "mobility_num = 6"
   ]
  },
  {
   "cell_type": "code",
   "execution_count": 3,
   "metadata": {},
   "outputs": [],
   "source": [
    "import csv\n",
    "def process(filename, all_data, cities, city_type):\n",
    "    with open(filename,'r') as dest_f:\n",
    "        data_iter = csv.reader(dest_f)\n",
    "        data = [data[2:13] + [(5 + idx) % 7] + data[16:] for idx, data in enumerate(data_iter)]\n",
    "    \n",
    "    data = np.asarray(data[1:])\n",
    "    data[np.where(data == '')] = '0'\n",
    "    data = data.astype(float)\n",
    "    \n",
    "    city = np.ones((data.shape[0], input_days)) * city_type\n",
    "    \n",
    "    all_data.append(data)\n",
    "    cities.append(city)"
   ]
  },
  {
   "cell_type": "code",
   "execution_count": 4,
   "metadata": {
    "scrolled": true
   },
   "outputs": [],
   "source": [
    "all_data, cities = [], []"
   ]
  },
  {
   "cell_type": "code",
   "execution_count": 5,
   "metadata": {},
   "outputs": [],
   "source": [
    "process(\"/Users/junyang/Downloads/japanprocessed.csv\", all_data, cities, 1)"
   ]
  },
  {
   "cell_type": "code",
   "execution_count": 6,
   "metadata": {
    "collapsed": true
   },
   "outputs": [],
   "source": [
    "process(\"/Users/junyang/Downloads/franceprocessed.csv\", all_data, cities, 2)\n",
    "process(\"/Users/junyang/Downloads/indiaprocessed.csv\", all_data, cities, 3)\n",
    "process(\"/Users/junyang/Downloads/unitedkingdomprocessed.csv\", all_data, cities, 4)\n",
    "process(\"/Users/junyang/Downloads/unitedstatesprocessed.csv\", all_data, cities, 5)\n",
    "process(\"/Users/junyang/Downloads/egyptprocessed.csv\", all_data, cities, 5)"
   ]
  },
  {
   "cell_type": "code",
   "execution_count": 7,
   "metadata": {},
   "outputs": [],
   "source": [
    "def build_model():\n",
    "    feature_input = Input(shape=(input_days, feature_dim,), name=\"Features\")\n",
    "    city_input = Input(shape=(input_days,), name=\"City_ID\")\n",
    "    \n",
    "    x = Embedding(input_dim=city_num, output_dim=4, input_length=input_days)(city_input)\n",
    "    x = concatenate([feature_input, x])\n",
    "    \n",
    "    x = GRU(units = 256, return_sequences = False, input_shape = (input_days, feature_dim))(x)\n",
    "#     x = LSTM(units = 64, return_sequences = False, input_shape = (input_days, 64))(x)\n",
    "    x = Dense(units = 256, activation=\"selu\")(x)\n",
    "    x = Dropout(0.2)(x)\n",
    "    x = Dense(units = 128, activation=\"selu\")(x)\n",
    "    x = Dense(units = mobility_num, name=\"Predicted_Mobility\")(x)\n",
    "    model = Model(inputs=[feature_input, city_input], outputs=x)\n",
    "    \n",
    "    return model"
   ]
  },
  {
   "cell_type": "code",
   "execution_count": 8,
   "metadata": {},
   "outputs": [],
   "source": [
    "model = build_model()\n",
    "model.compile(optimizer = 'adam', loss = 'mean_squared_error')"
   ]
  },
  {
   "cell_type": "code",
   "execution_count": 9,
   "metadata": {},
   "outputs": [],
   "source": [
    "overalldata = np.stack(all_data).reshape((-11, 53))\n",
    "overallcities = np.stack(cities).reshape((-1, 50))\n",
    "\n",
    "Original_X_data = overalldata[:, :-mobility_num]\n",
    "Original_mobility = overalldata[:, -mobility_num:]\n",
    "\n",
    "X_sc = MinMaxScaler()\n",
    "X_sc.fit(Original_X_data)\n",
    "X_data = X_sc.transform(Original_X_data)\n",
    "\n",
    "y_sc = MinMaxScaler()\n",
    "y_sc.fit(Original_mobility)\n",
    "mobility = y_sc.transform(Original_mobility)\n",
    "\n",
    "train_X, train_y, train_cs = [], [], []\n",
    "test_X_t, test_y_t, test_cs_t = [], [], []\n",
    "for da, cc in zip(all_data, cities):\n",
    "    X, y, cs = [], [], []\n",
    "    X_t, y_t, cs_t = [], [], []\n",
    "\n",
    "    X_data = X_sc.transform(da[:, :-mobility_num])\n",
    "    mobility = y_sc.transform(da[:, -mobility_num:])\n",
    "                \n",
    "    for i in range(input_days, da.shape[0] - 40):\n",
    "        X.append(X_data[i - input_days: i, :])\n",
    "        y.append(mobility[i])\n",
    "        cs.append(cc[i])\n",
    "\n",
    "    for i in range(da.shape[0] - 40, da.shape[0]):\n",
    "        X_t.append(X_data[i - input_days: i, :])\n",
    "        y_t.append(mobility[i])\n",
    "        cs_t.append(cc[i])\n",
    "    \n",
    "    train_X.append(np.stack(X))\n",
    "    train_y.append(np.stack(y))\n",
    "    train_cs.append(np.stack(cs))\n",
    "    \n",
    "    test_X_t.append(np.stack(X_t))\n",
    "    test_y_t.append(np.stack(y_t))\n",
    "    test_cs_t.append(np.stack(cs_t))\n",
    "    \n",
    "\n",
    "# X = np.stack(X)\n",
    "# y = np.stack(y)\n",
    "# city = np.ones((X.shape[0], input_days))\n",
    "\n",
    "\n",
    "\n",
    "# def split()"
   ]
  },
  {
   "cell_type": "code",
   "execution_count": 10,
   "metadata": {},
   "outputs": [],
   "source": [
    "train_X = np.concatenate(train_X)\n",
    "train_y = np.concatenate(train_y)\n",
    "train_cs = np.concatenate(train_cs)\n",
    "\n",
    "val_X_t = np.concatenate(test_X_t)\n",
    "val_y_t = np.concatenate(test_y_t)\n",
    "val_cs_t = np.concatenate(test_cs_t)\n",
    "\n",
    "\n"
   ]
  },
  {
   "cell_type": "code",
   "execution_count": 11,
   "metadata": {},
   "outputs": [],
   "source": [
    "#     # data = np.random.random((200, feature_dim))\n",
    "# Original_X_data = data[:, :-mobility_num]\n",
    "# Original_mobility = data[:, -mobility_num:]\n",
    "\n",
    "# X_sc = MinMaxScaler()\n",
    "# X_sc.fit(Original_X_data)\n",
    "# X_data = X_sc.transform(Original_X_data)\n",
    "\n",
    "# y_sc = MinMaxScaler()\n",
    "# y_sc.fit(Original_mobility)\n",
    "# mobility = y_sc.transform(Original_mobility)\n",
    "\n",
    "# # X_data = Original_X_data\n",
    "# # mobility = Original_mobility\n",
    "\n",
    "# # print(y_sc.data_max_)\n",
    "\n",
    "# X, y = [], []\n",
    "# for i in range(input_days, data.shape[0]):\n",
    "#     X.append(X_data[i - input_days: i, :])\n",
    "#     y.append(mobility[i])\n",
    "\n",
    "# X = np.stack(X)\n",
    "# y = np.stack(y)\n",
    "# city = np.ones((X.shape[0], input_days))\n",
    "\n",
    "# # model.fit([X, city], y, epochs = 100, batch_size = 100)"
   ]
  },
  {
   "cell_type": "code",
   "execution_count": 12,
   "metadata": {},
   "outputs": [],
   "source": [
    "# train_x, train_y = X[:-30], y[:-30]\n",
    "# test_x, test_y = X[-30:], y[-30:]\n",
    "# train_city, test_city = city[:-30], city[-30:]"
   ]
  },
  {
   "cell_type": "code",
   "execution_count": 13,
   "metadata": {},
   "outputs": [
    {
     "data": {
      "text/plain": [
       "(714, 50, 47)"
      ]
     },
     "execution_count": 13,
     "metadata": {},
     "output_type": "execute_result"
    }
   ],
   "source": [
    "train_X.shape"
   ]
  },
  {
   "cell_type": "code",
   "execution_count": 15,
   "metadata": {},
   "outputs": [
    {
     "name": "stdout",
     "output_type": "stream",
     "text": [
      "Train on 714 samples, validate on 180 samples\n",
      "Epoch 1/300\n",
      "714/714 [==============================] - 2s 3ms/step - loss: 0.0011 - val_loss: 0.0127\n",
      "Epoch 2/300\n",
      "100/714 [===>..........................] - ETA: 1s - loss: 0.0012"
     ]
    },
    {
     "ename": "KeyboardInterrupt",
     "evalue": "",
     "output_type": "error",
     "traceback": [
      "\u001b[0;31m---------------------------------------------------------------------------\u001b[0m",
      "\u001b[0;31mKeyboardInterrupt\u001b[0m                         Traceback (most recent call last)",
      "\u001b[0;32m<ipython-input-15-2b66cacae9c9>\u001b[0m in \u001b[0;36m<module>\u001b[0;34m()\u001b[0m\n\u001b[0;32m----> 1\u001b[0;31m \u001b[0mmodel\u001b[0m\u001b[0;34m.\u001b[0m\u001b[0mfit\u001b[0m\u001b[0;34m(\u001b[0m\u001b[0;34m[\u001b[0m\u001b[0mtrain_X\u001b[0m\u001b[0;34m,\u001b[0m \u001b[0mtrain_cs\u001b[0m\u001b[0;34m]\u001b[0m\u001b[0;34m,\u001b[0m \u001b[0mtrain_y\u001b[0m\u001b[0;34m,\u001b[0m \u001b[0mepochs\u001b[0m \u001b[0;34m=\u001b[0m \u001b[0;36m300\u001b[0m\u001b[0;34m,\u001b[0m \u001b[0mbatch_size\u001b[0m \u001b[0;34m=\u001b[0m \u001b[0;36m50\u001b[0m\u001b[0;34m,\u001b[0m \u001b[0mvalidation_data\u001b[0m\u001b[0;34m=\u001b[0m\u001b[0;34m(\u001b[0m\u001b[0;34m[\u001b[0m\u001b[0mval_X_t\u001b[0m\u001b[0;34m[\u001b[0m\u001b[0;36m60\u001b[0m\u001b[0;34m:\u001b[0m\u001b[0;34m]\u001b[0m\u001b[0;34m,\u001b[0m \u001b[0mval_cs_t\u001b[0m\u001b[0;34m[\u001b[0m\u001b[0;36m60\u001b[0m\u001b[0;34m:\u001b[0m\u001b[0;34m]\u001b[0m\u001b[0;34m]\u001b[0m\u001b[0;34m,\u001b[0m \u001b[0mval_y_t\u001b[0m\u001b[0;34m[\u001b[0m\u001b[0;36m60\u001b[0m\u001b[0;34m:\u001b[0m\u001b[0;34m]\u001b[0m\u001b[0;34m)\u001b[0m\u001b[0;34m)\u001b[0m\u001b[0;34m\u001b[0m\u001b[0m\n\u001b[0m",
      "\u001b[0;32m/usr/local/lib/python3.6/site-packages/keras/engine/training.py\u001b[0m in \u001b[0;36mfit\u001b[0;34m(self, x, y, batch_size, epochs, verbose, callbacks, validation_split, validation_data, shuffle, class_weight, sample_weight, initial_epoch, steps_per_epoch, validation_steps, **kwargs)\u001b[0m\n\u001b[1;32m   1037\u001b[0m                                         \u001b[0minitial_epoch\u001b[0m\u001b[0;34m=\u001b[0m\u001b[0minitial_epoch\u001b[0m\u001b[0;34m,\u001b[0m\u001b[0;34m\u001b[0m\u001b[0m\n\u001b[1;32m   1038\u001b[0m                                         \u001b[0msteps_per_epoch\u001b[0m\u001b[0;34m=\u001b[0m\u001b[0msteps_per_epoch\u001b[0m\u001b[0;34m,\u001b[0m\u001b[0;34m\u001b[0m\u001b[0m\n\u001b[0;32m-> 1039\u001b[0;31m                                         validation_steps=validation_steps)\n\u001b[0m\u001b[1;32m   1040\u001b[0m \u001b[0;34m\u001b[0m\u001b[0m\n\u001b[1;32m   1041\u001b[0m     def evaluate(self, x=None, y=None,\n",
      "\u001b[0;32m/usr/local/lib/python3.6/site-packages/keras/engine/training_arrays.py\u001b[0m in \u001b[0;36mfit_loop\u001b[0;34m(model, f, ins, out_labels, batch_size, epochs, verbose, callbacks, val_f, val_ins, shuffle, callback_metrics, initial_epoch, steps_per_epoch, validation_steps)\u001b[0m\n\u001b[1;32m    197\u001b[0m                     \u001b[0mins_batch\u001b[0m\u001b[0;34m[\u001b[0m\u001b[0mi\u001b[0m\u001b[0;34m]\u001b[0m \u001b[0;34m=\u001b[0m \u001b[0mins_batch\u001b[0m\u001b[0;34m[\u001b[0m\u001b[0mi\u001b[0m\u001b[0;34m]\u001b[0m\u001b[0;34m.\u001b[0m\u001b[0mtoarray\u001b[0m\u001b[0;34m(\u001b[0m\u001b[0;34m)\u001b[0m\u001b[0;34m\u001b[0m\u001b[0m\n\u001b[1;32m    198\u001b[0m \u001b[0;34m\u001b[0m\u001b[0m\n\u001b[0;32m--> 199\u001b[0;31m                 \u001b[0mouts\u001b[0m \u001b[0;34m=\u001b[0m \u001b[0mf\u001b[0m\u001b[0;34m(\u001b[0m\u001b[0mins_batch\u001b[0m\u001b[0;34m)\u001b[0m\u001b[0;34m\u001b[0m\u001b[0m\n\u001b[0m\u001b[1;32m    200\u001b[0m                 \u001b[0mouts\u001b[0m \u001b[0;34m=\u001b[0m \u001b[0mto_list\u001b[0m\u001b[0;34m(\u001b[0m\u001b[0mouts\u001b[0m\u001b[0;34m)\u001b[0m\u001b[0;34m\u001b[0m\u001b[0m\n\u001b[1;32m    201\u001b[0m                 \u001b[0;32mfor\u001b[0m \u001b[0ml\u001b[0m\u001b[0;34m,\u001b[0m \u001b[0mo\u001b[0m \u001b[0;32min\u001b[0m \u001b[0mzip\u001b[0m\u001b[0;34m(\u001b[0m\u001b[0mout_labels\u001b[0m\u001b[0;34m,\u001b[0m \u001b[0mouts\u001b[0m\u001b[0;34m)\u001b[0m\u001b[0;34m:\u001b[0m\u001b[0;34m\u001b[0m\u001b[0m\n",
      "\u001b[0;32m/usr/local/lib/python3.6/site-packages/keras/backend/tensorflow_backend.py\u001b[0m in \u001b[0;36m__call__\u001b[0;34m(self, inputs)\u001b[0m\n\u001b[1;32m   2713\u001b[0m                 \u001b[0;32mreturn\u001b[0m \u001b[0mself\u001b[0m\u001b[0;34m.\u001b[0m\u001b[0m_legacy_call\u001b[0m\u001b[0;34m(\u001b[0m\u001b[0minputs\u001b[0m\u001b[0;34m)\u001b[0m\u001b[0;34m\u001b[0m\u001b[0m\n\u001b[1;32m   2714\u001b[0m \u001b[0;34m\u001b[0m\u001b[0m\n\u001b[0;32m-> 2715\u001b[0;31m             \u001b[0;32mreturn\u001b[0m \u001b[0mself\u001b[0m\u001b[0;34m.\u001b[0m\u001b[0m_call\u001b[0m\u001b[0;34m(\u001b[0m\u001b[0minputs\u001b[0m\u001b[0;34m)\u001b[0m\u001b[0;34m\u001b[0m\u001b[0m\n\u001b[0m\u001b[1;32m   2716\u001b[0m         \u001b[0;32melse\u001b[0m\u001b[0;34m:\u001b[0m\u001b[0;34m\u001b[0m\u001b[0m\n\u001b[1;32m   2717\u001b[0m             \u001b[0;32mif\u001b[0m \u001b[0mpy_any\u001b[0m\u001b[0;34m(\u001b[0m\u001b[0mis_tensor\u001b[0m\u001b[0;34m(\u001b[0m\u001b[0mx\u001b[0m\u001b[0;34m)\u001b[0m \u001b[0;32mfor\u001b[0m \u001b[0mx\u001b[0m \u001b[0;32min\u001b[0m \u001b[0minputs\u001b[0m\u001b[0;34m)\u001b[0m\u001b[0;34m:\u001b[0m\u001b[0;34m\u001b[0m\u001b[0m\n",
      "\u001b[0;32m/usr/local/lib/python3.6/site-packages/keras/backend/tensorflow_backend.py\u001b[0m in \u001b[0;36m_call\u001b[0;34m(self, inputs)\u001b[0m\n\u001b[1;32m   2673\u001b[0m             \u001b[0mfetched\u001b[0m \u001b[0;34m=\u001b[0m \u001b[0mself\u001b[0m\u001b[0;34m.\u001b[0m\u001b[0m_callable_fn\u001b[0m\u001b[0;34m(\u001b[0m\u001b[0;34m*\u001b[0m\u001b[0marray_vals\u001b[0m\u001b[0;34m,\u001b[0m \u001b[0mrun_metadata\u001b[0m\u001b[0;34m=\u001b[0m\u001b[0mself\u001b[0m\u001b[0;34m.\u001b[0m\u001b[0mrun_metadata\u001b[0m\u001b[0;34m)\u001b[0m\u001b[0;34m\u001b[0m\u001b[0m\n\u001b[1;32m   2674\u001b[0m         \u001b[0;32melse\u001b[0m\u001b[0;34m:\u001b[0m\u001b[0;34m\u001b[0m\u001b[0m\n\u001b[0;32m-> 2675\u001b[0;31m             \u001b[0mfetched\u001b[0m \u001b[0;34m=\u001b[0m \u001b[0mself\u001b[0m\u001b[0;34m.\u001b[0m\u001b[0m_callable_fn\u001b[0m\u001b[0;34m(\u001b[0m\u001b[0;34m*\u001b[0m\u001b[0marray_vals\u001b[0m\u001b[0;34m)\u001b[0m\u001b[0;34m\u001b[0m\u001b[0m\n\u001b[0m\u001b[1;32m   2676\u001b[0m         \u001b[0;32mreturn\u001b[0m \u001b[0mfetched\u001b[0m\u001b[0;34m[\u001b[0m\u001b[0;34m:\u001b[0m\u001b[0mlen\u001b[0m\u001b[0;34m(\u001b[0m\u001b[0mself\u001b[0m\u001b[0;34m.\u001b[0m\u001b[0moutputs\u001b[0m\u001b[0;34m)\u001b[0m\u001b[0;34m]\u001b[0m\u001b[0;34m\u001b[0m\u001b[0m\n\u001b[1;32m   2677\u001b[0m \u001b[0;34m\u001b[0m\u001b[0m\n",
      "\u001b[0;32m/usr/local/lib/python3.6/site-packages/tensorflow/python/client/session.py\u001b[0m in \u001b[0;36m__call__\u001b[0;34m(self, *args, **kwargs)\u001b[0m\n\u001b[1;32m   1437\u001b[0m           ret = tf_session.TF_SessionRunCallable(\n\u001b[1;32m   1438\u001b[0m               \u001b[0mself\u001b[0m\u001b[0;34m.\u001b[0m\u001b[0m_session\u001b[0m\u001b[0;34m.\u001b[0m\u001b[0m_session\u001b[0m\u001b[0;34m,\u001b[0m \u001b[0mself\u001b[0m\u001b[0;34m.\u001b[0m\u001b[0m_handle\u001b[0m\u001b[0;34m,\u001b[0m \u001b[0margs\u001b[0m\u001b[0;34m,\u001b[0m \u001b[0mstatus\u001b[0m\u001b[0;34m,\u001b[0m\u001b[0;34m\u001b[0m\u001b[0m\n\u001b[0;32m-> 1439\u001b[0;31m               run_metadata_ptr)\n\u001b[0m\u001b[1;32m   1440\u001b[0m         \u001b[0;32mif\u001b[0m \u001b[0mrun_metadata\u001b[0m\u001b[0;34m:\u001b[0m\u001b[0;34m\u001b[0m\u001b[0m\n\u001b[1;32m   1441\u001b[0m           \u001b[0mproto_data\u001b[0m \u001b[0;34m=\u001b[0m \u001b[0mtf_session\u001b[0m\u001b[0;34m.\u001b[0m\u001b[0mTF_GetBuffer\u001b[0m\u001b[0;34m(\u001b[0m\u001b[0mrun_metadata_ptr\u001b[0m\u001b[0;34m)\u001b[0m\u001b[0;34m\u001b[0m\u001b[0m\n",
      "\u001b[0;31mKeyboardInterrupt\u001b[0m: "
     ]
    }
   ],
   "source": [
    "model.fit([train_X, train_cs], train_y, epochs = 300, batch_size = 50, validation_data=([val_X_t[60:], val_cs_t[60:]], val_y_t[60:]))"
   ]
  },
  {
   "cell_type": "code",
   "execution_count": 17,
   "metadata": {},
   "outputs": [],
   "source": [
    "pred = model.predict([test_X_t[4], test_cs_t[4]])"
   ]
  },
  {
   "cell_type": "code",
   "execution_count": 18,
   "metadata": {},
   "outputs": [
    {
     "data": {
      "text/plain": [
       "array([[0.30232352, 0.26760295, 0.44396234, 0.261531  , 0.4805976 ,\n",
       "        0.23798555],\n",
       "       [0.3189156 , 0.27866533, 0.47287503, 0.29760572, 0.4581284 ,\n",
       "        0.27903643],\n",
       "       [0.32161447, 0.27014026, 0.46639556, 0.28964224, 0.46130732,\n",
       "        0.28888065],\n",
       "       [0.29257563, 0.24562782, 0.44551468, 0.2531548 , 0.50946367,\n",
       "        0.24999347],\n",
       "       [0.31235397, 0.2437102 , 0.44443914, 0.22748122, 0.50724137,\n",
       "        0.28005415],\n",
       "       [0.3522287 , 0.2439721 , 0.45511386, 0.27505797, 0.26671076,\n",
       "        0.57771575],\n",
       "       [0.35608748, 0.23756261, 0.4414622 , 0.28245464, 0.23262325,\n",
       "        0.59253705],\n",
       "       [0.29475608, 0.2650123 , 0.44167787, 0.26924255, 0.48752964,\n",
       "        0.22723003],\n",
       "       [0.31812957, 0.27619028, 0.47819   , 0.31691927, 0.46234998,\n",
       "        0.2662389 ],\n",
       "       [0.3164926 , 0.2661798 , 0.46387374, 0.29790193, 0.46588114,\n",
       "        0.2803564 ],\n",
       "       [0.30009446, 0.2605012 , 0.45341986, 0.27837786, 0.50885516,\n",
       "        0.24349284],\n",
       "       [0.30804166, 0.21614285, 0.48414075, 0.15361789, 0.42006648,\n",
       "        0.3287622 ],\n",
       "       [0.3885748 , 0.19150153, 0.46245998, 0.15640277, 0.16812316,\n",
       "        0.5800057 ],\n",
       "       [0.43823496, 0.16780576, 0.47160095, 0.17685443, 0.07821835,\n",
       "        0.64867806],\n",
       "       [0.3892016 , 0.26053718, 0.52654415, 0.23272848, 0.3859788 ,\n",
       "        0.26506883],\n",
       "       [0.38389918, 0.20946665, 0.58760804, 0.23395145, 0.39243445,\n",
       "        0.2438635 ],\n",
       "       [0.38248676, 0.1753669 , 0.5948604 , 0.18470356, 0.33282334,\n",
       "        0.2882766 ],\n",
       "       [0.40043017, 0.2363595 , 0.50336444, 0.21491712, 0.3670477 ,\n",
       "        0.29031396],\n",
       "       [0.38060626, 0.2395211 , 0.45844355, 0.16116393, 0.34913197,\n",
       "        0.32386738],\n",
       "       [0.36416265, 0.23973262, 0.41484734, 0.13563874, 0.27095547,\n",
       "        0.4095391 ],\n",
       "       [0.349016  , 0.22858682, 0.3834492 , 0.09757756, 0.28465912,\n",
       "        0.38682076],\n",
       "       [0.32349655, 0.23388433, 0.4105866 , 0.1296905 , 0.4518912 ,\n",
       "        0.17566632],\n",
       "       [0.36867583, 0.26680833, 0.44058564, 0.12422533, 0.40196702,\n",
       "        0.22827122],\n",
       "       [0.3695834 , 0.25556532, 0.44047824, 0.10207897, 0.41437805,\n",
       "        0.261516  ],\n",
       "       [0.35566452, 0.26159453, 0.45611143, 0.18521363, 0.5044842 ,\n",
       "        0.26929596],\n",
       "       [0.3361455 , 0.23184523, 0.4069142 , 0.18915588, 0.5491656 ,\n",
       "        0.2307567 ],\n",
       "       [0.35870132, 0.22934775, 0.41623414, 0.08948839, 0.26473325,\n",
       "        0.47944245],\n",
       "       [0.3596433 , 0.23288529, 0.40229934, 0.07160648, 0.19089928,\n",
       "        0.52791166],\n",
       "       [0.32665554, 0.23753966, 0.39918038, 0.09723657, 0.4348601 ,\n",
       "        0.23748031],\n",
       "       [0.38823256, 0.297975  , 0.4244088 , 0.15445337, 0.43879163,\n",
       "        0.2885722 ],\n",
       "       [0.39952973, 0.24683957, 0.47133476, 0.21519142, 0.4343137 ,\n",
       "        0.32616735],\n",
       "       [0.37858823, 0.25296307, 0.41690156, 0.18529224, 0.45264724,\n",
       "        0.28754616],\n",
       "       [0.38952866, 0.25987196, 0.40579796, 0.12438826, 0.4205305 ,\n",
       "        0.34618965],\n",
       "       [0.43003616, 0.25781494, 0.44340193, 0.12796822, 0.1987584 ,\n",
       "        0.6002624 ],\n",
       "       [0.4466499 , 0.27675983, 0.43363762, 0.13883308, 0.16498473,\n",
       "        0.61439383],\n",
       "       [0.40322226, 0.31139198, 0.45113093, 0.14530468, 0.36673722,\n",
       "        0.36051226],\n",
       "       [0.46811435, 0.30540648, 0.48470902, 0.14300445, 0.3384196 ,\n",
       "        0.39068905],\n",
       "       [0.41934323, 0.27205485, 0.43856815, 0.13628423, 0.36052224,\n",
       "        0.35733733],\n",
       "       [0.40678027, 0.25576818, 0.47662342, 0.18545109, 0.4079688 ,\n",
       "        0.32437164],\n",
       "       [0.37757018, 0.26231986, 0.43397874, 0.16375238, 0.4052644 ,\n",
       "        0.34706062]], dtype=float32)"
      ]
     },
     "execution_count": 18,
     "metadata": {},
     "output_type": "execute_result"
    }
   ],
   "source": [
    "pred"
   ]
  },
  {
   "cell_type": "code",
   "execution_count": 19,
   "metadata": {},
   "outputs": [
    {
     "data": {
      "text/plain": [
       "array([[0.32380952, 0.3       , 0.47154472, 0.27799228, 0.46153846,\n",
       "        0.26851852],\n",
       "       [0.26666667, 0.2       , 0.3495935 , 0.19305019, 0.59615385,\n",
       "        0.21296296],\n",
       "       [0.33333333, 0.3       , 0.50406504, 0.32818533, 0.46153846,\n",
       "        0.26851852],\n",
       "       [0.32380952, 0.3       , 0.50406504, 0.30888031, 0.48076923,\n",
       "        0.25925926],\n",
       "       [0.32380952, 0.26666667, 0.43902439, 0.22007722, 0.5       ,\n",
       "        0.27777778],\n",
       "       [0.38095238, 0.3       , 0.50406504, 0.35907336, 0.23076923,\n",
       "        0.62037037],\n",
       "       [0.38095238, 0.29166667, 0.46341463, 0.32818533, 0.21153846,\n",
       "        0.59259259],\n",
       "       [0.31428571, 0.29166667, 0.44715447, 0.27799228, 0.46153846,\n",
       "        0.25925926],\n",
       "       [0.32380952, 0.29166667, 0.47154472, 0.30501931, 0.48076923,\n",
       "        0.25925926],\n",
       "       [0.31428571, 0.26666667, 0.44715447, 0.25868726, 0.5       ,\n",
       "        0.25925926],\n",
       "       [0.31428571, 0.26666667, 0.46341463, 0.24710425, 0.5       ,\n",
       "        0.25925926],\n",
       "       [0.34285714, 0.28333333, 0.47154472, 0.28571429, 0.44230769,\n",
       "        0.27777778],\n",
       "       [0.40952381, 0.30833333, 0.50406504, 0.3976834 , 0.19230769,\n",
       "        0.60185185],\n",
       "       [0.31428571, 0.225     , 0.40650407, 0.18918919, 0.28846154,\n",
       "        0.52777778],\n",
       "       [0.32380952, 0.3       , 0.45528455, 0.3011583 , 0.46153846,\n",
       "        0.25925926],\n",
       "       [0.34285714, 0.30833333, 0.4796748 , 0.34362934, 0.46153846,\n",
       "        0.26851852],\n",
       "       [0.32380952, 0.275     , 0.44715447, 0.28185328, 0.48076923,\n",
       "        0.25925926],\n",
       "       [0.35238095, 0.31666667, 0.50406504, 0.34749035, 0.44230769,\n",
       "        0.26851852],\n",
       "       [0.36190476, 0.3       , 0.46341463, 0.2972973 , 0.44230769,\n",
       "        0.28703704],\n",
       "       [0.4       , 0.30833333, 0.48780488, 0.36679537, 0.19230769,\n",
       "        0.61111111],\n",
       "       [0.38095238, 0.3       , 0.46341463, 0.31660232, 0.21153846,\n",
       "        0.57407407],\n",
       "       [0.33333333, 0.3       , 0.44715447, 0.28957529, 0.46153846,\n",
       "        0.25925926],\n",
       "       [0.34285714, 0.3       , 0.46341463, 0.2972973 , 0.48076923,\n",
       "        0.25925926],\n",
       "       [0.35238095, 0.325     , 0.48780488, 0.35135135, 0.44230769,\n",
       "        0.27777778],\n",
       "       [0.34285714, 0.3       , 0.4796748 , 0.30888031, 0.48076923,\n",
       "        0.26851852],\n",
       "       [0.36190476, 0.3       , 0.46341463, 0.28185328, 0.44230769,\n",
       "        0.28703704],\n",
       "       [0.36190476, 0.28333333, 0.4796748 , 0.28185328, 0.26923077,\n",
       "        0.58333333],\n",
       "       [0.42857143, 0.34166667, 0.49593496, 0.41312741, 0.17307692,\n",
       "        0.59259259],\n",
       "       [0.35238095, 0.325     , 0.45528455, 0.31660232, 0.46153846,\n",
       "        0.26851852],\n",
       "       [0.35238095, 0.325     , 0.49593496, 0.32046332, 0.46153846,\n",
       "        0.26851852],\n",
       "       [0.35238095, 0.30833333, 0.47154472, 0.2972973 , 0.48076923,\n",
       "        0.25925926],\n",
       "       [0.38095238, 0.325     , 0.51219512, 0.31660232, 0.46153846,\n",
       "        0.26851852],\n",
       "       [0.39047619, 0.325     , 0.48780488, 0.31274131, 0.40384615,\n",
       "        0.28703704],\n",
       "       [0.43809524, 0.34166667, 0.5203252 , 0.42471042, 0.17307692,\n",
       "        0.61111111],\n",
       "       [0.43809524, 0.34166667, 0.48780488, 0.40540541, 0.17307692,\n",
       "        0.58333333],\n",
       "       [0.24761905, 0.28333333, 0.36585366, 0.35521236, 0.44230769,\n",
       "        0.13888889],\n",
       "       [0.38095238, 0.325     , 0.51219512, 0.34749035, 0.42307692,\n",
       "        0.26851852],\n",
       "       [0.39047619, 0.33333333, 0.51219512, 0.35135135, 0.44230769,\n",
       "        0.27777778],\n",
       "       [0.37142857, 0.3       , 0.48780488, 0.27027027, 0.5       ,\n",
       "        0.26851852],\n",
       "       [0.41904762, 0.35      , 0.51219512, 0.34362934, 0.42307692,\n",
       "        0.30555556]])"
      ]
     },
     "execution_count": 19,
     "metadata": {},
     "output_type": "execute_result"
    }
   ],
   "source": [
    "test_y_t[4]"
   ]
  },
  {
   "cell_type": "code",
   "execution_count": 20,
   "metadata": {},
   "outputs": [],
   "source": [
    "pred_true = y_sc.inverse_transform(pred)"
   ]
  },
  {
   "cell_type": "code",
   "execution_count": 24,
   "metadata": {},
   "outputs": [],
   "source": [
    "y_true = y_sc.inverse_transform(test_y_t[4])"
   ]
  },
  {
   "cell_type": "code",
   "execution_count": 30,
   "metadata": {},
   "outputs": [
    {
     "name": "stdout",
     "output_type": "stream",
     "text": [
      "-65.702774\n",
      "-56.493683\n",
      "-29.359385\n",
      "-21.942768\n",
      "-63.37257\n",
      "-65.66274\n",
      "-60.866127\n",
      "-60.646095\n",
      "-57.022327\n",
      "-47.769775\n",
      "-50.22336\n",
      "-73.02804\n",
      "-67.34671\n",
      "-63.75627\n",
      "-62.916035\n",
      "-67.07828\n",
      "-40.220215\n",
      "-34.98554\n",
      "-66.35213\n",
      "-60.834206\n",
      "-56.77393\n",
      "-60.94502\n",
      "-54.61152\n",
      "-27.17166\n",
      "-25.645466\n",
      "-53.064674\n",
      "-49.805584\n",
      "-53.40757\n",
      "-56.967865\n",
      "-54.517456\n"
     ]
    }
   ],
   "source": [
    "for tmp in pred_true[-30:, 5]:\n",
    "    print(tmp)"
   ]
  },
  {
   "cell_type": "code",
   "execution_count": 29,
   "metadata": {},
   "outputs": [
    {
     "name": "stdout",
     "output_type": "stream",
     "text": [
      "-64.0\n",
      "-62.0\n",
      "-27.0\n",
      "-35.0\n",
      "-64.0\n",
      "-62.99999999999999\n",
      "-64.0\n",
      "-62.99999999999999\n",
      "-61.0\n",
      "-25.999999999999996\n",
      "-30.000000000000004\n",
      "-64.0\n",
      "-64.0\n",
      "-62.0\n",
      "-62.99999999999999\n",
      "-61.0\n",
      "-29.0\n",
      "-28.000000000000007\n",
      "-62.99999999999999\n",
      "-62.99999999999999\n",
      "-64.0\n",
      "-62.99999999999999\n",
      "-61.0\n",
      "-25.999999999999996\n",
      "-29.0\n",
      "-77.0\n",
      "-62.99999999999999\n",
      "-62.0\n",
      "-62.99999999999999\n",
      "-59.0\n"
     ]
    }
   ],
   "source": [
    "for tmp in y_true[-30:, 5]:\n",
    "    print(tmp)"
   ]
  },
  {
   "cell_type": "code",
   "execution_count": 27,
   "metadata": {},
   "outputs": [
    {
     "ename": "NameError",
     "evalue": "name 'date' is not defined",
     "output_type": "error",
     "traceback": [
      "\u001b[0;31m---------------------------------------------------------------------------\u001b[0m",
      "\u001b[0;31mNameError\u001b[0m                                 Traceback (most recent call last)",
      "\u001b[0;32m<ipython-input-27-6e95a98ea04c>\u001b[0m in \u001b[0;36m<module>\u001b[0;34m()\u001b[0m\n\u001b[0;32m----> 1\u001b[0;31m \u001b[0mdate\u001b[0m \u001b[0;34m=\u001b[0m \u001b[0mdate\u001b[0m\u001b[0;34m[\u001b[0m\u001b[0;36m1\u001b[0m\u001b[0;34m:\u001b[0m\u001b[0;34m]\u001b[0m\u001b[0;34m\u001b[0m\u001b[0m\n\u001b[0m",
      "\u001b[0;31mNameError\u001b[0m: name 'date' is not defined"
     ]
    }
   ],
   "source": [
    "date = date[1:]"
   ]
  },
  {
   "cell_type": "code",
   "execution_count": 37,
   "metadata": {},
   "outputs": [
    {
     "name": "stdout",
     "output_type": "stream",
     "text": [
      "2020-08-12\n",
      "2020-08-13\n",
      "2020-08-14\n",
      "2020-08-15\n",
      "2020-08-16\n",
      "2020-08-17\n",
      "2020-08-18\n",
      "2020-08-19\n",
      "2020-08-20\n",
      "2020-08-21\n",
      "2020-08-22\n",
      "2020-08-23\n",
      "2020-08-24\n",
      "2020-08-25\n",
      "2020-08-26\n",
      "2020-08-27\n",
      "2020-08-28\n",
      "2020-08-29\n",
      "2020-08-30\n",
      "2020-08-31\n",
      "2020-09-01\n",
      "2020-09-02\n",
      "2020-09-03\n",
      "2020-09-04\n",
      "2020-09-05\n",
      "2020-09-06\n",
      "2020-09-07\n",
      "2020-09-08\n",
      "2020-09-09\n",
      "2020-09-10\n"
     ]
    }
   ],
   "source": [
    "for tmp in date[-30:]:\n",
    "    print(tmp)"
   ]
  },
  {
   "cell_type": "code",
   "execution_count": 50,
   "metadata": {},
   "outputs": [
    {
     "name": "stdout",
     "output_type": "stream",
     "text": [
      "-13.0\n",
      "-4.0\n",
      "-2.0\n",
      "-4.0\n",
      "-4.0\n",
      "-4.0\n",
      "-9.0\n",
      "-3.0\n",
      "-5.0\n",
      "-6.0\n",
      "-11.0\n",
      "-8.0\n",
      "-9.0\n",
      "-13.0\n",
      "-15.0\n",
      "-21.0\n",
      "-8.0\n",
      "-20.0\n",
      "-14.0\n",
      "-14.0\n",
      "-18.0\n",
      "-26.0\n",
      "-13.0\n",
      "-20.0\n",
      "-9.0\n",
      "-10.0\n",
      "-10.0\n",
      "-29.0\n",
      "-10.0\n",
      "-13.0\n",
      "-9.0\n",
      "-9.0\n",
      "-3.0\n",
      "-15.0\n",
      "-13.0\n",
      "-13.0\n",
      "-13.0\n",
      "-8.0\n",
      "-6.0\n",
      "-10.0\n",
      "-20.0\n",
      "-46.0\n",
      "-63.0\n",
      "-24.0\n",
      "-23.0\n",
      "-38.0\n",
      "-28.0\n",
      "-30.0\n",
      "-42.0\n",
      "-50.0\n",
      "-29.0\n",
      "-32.0\n",
      "-45.0\n",
      "-47.0\n",
      "-48.0\n",
      "-52.0\n",
      "-59.0\n",
      "-65.0\n",
      "-47.0\n",
      "-49.0\n",
      "-52.0\n",
      "-53.0\n",
      "-72.0\n",
      "-54.0\n",
      "-63.0\n",
      "-53.0\n",
      "-57.0\n",
      "-56.0\n",
      "-57.0\n",
      "-59.0\n",
      "-61.0\n",
      "-59.0\n",
      "-53.0\n",
      "-57.0\n",
      "-54.0\n",
      "-57.0\n",
      "-61.0\n",
      "-60.0\n",
      "-60.0\n",
      "-57.0\n",
      "-68.0\n",
      "-53.0\n",
      "-55.0\n",
      "-55.0\n",
      "-55.0\n",
      "-54.0\n",
      "-53.0\n",
      "-53.0\n",
      "-53.0\n",
      "-54.0\n",
      "-64.0\n",
      "-48.0\n",
      "-55.0\n",
      "-57.0\n",
      "-52.0\n",
      "-54.0\n",
      "-53.0\n",
      "-49.0\n",
      "-46.0\n",
      "-46.0\n",
      "-47.0\n",
      "-43.0\n",
      "-44.0\n",
      "-42.0\n",
      "-38.0\n",
      "-39.0\n",
      "-41.0\n",
      "-35.0\n",
      "-37.0\n",
      "-37.0\n",
      "-37.0\n",
      "-35.0\n",
      "-30.0\n",
      "-34.0\n",
      "-33.0\n",
      "-33.0\n",
      "-38.0\n",
      "-33.0\n",
      "-40.0\n",
      "-31.0\n",
      "-29.0\n",
      "-27.0\n",
      "-27.0\n",
      "-29.0\n",
      "-36.0\n",
      "-20.0\n",
      "-23.0\n",
      "-36.0\n",
      "-23.0\n",
      "-26.0\n",
      "-27.0\n",
      "-25.0\n",
      "-20.0\n",
      "-28.0\n",
      "-22.0\n",
      "-28.0\n",
      "-30.0\n",
      "-22.0\n",
      "-29.0\n",
      "-26.0\n",
      "-23.0\n",
      "-33.0\n",
      "-25.0\n",
      "-27.0\n",
      "-30.0\n",
      "-27.0\n",
      "-25.0\n",
      "-22.0\n",
      "-28.0\n",
      "-28.0\n",
      "-29.0\n",
      "-24.0\n",
      "-33.0\n",
      "-29.0\n",
      "-24.0\n",
      "-26.0\n",
      "-23.0\n",
      "-22.0\n",
      "-34.0\n",
      "-30.0\n",
      "-34.0\n",
      "-30.0\n",
      "-28.0\n",
      "-27.0\n",
      "-27.0\n",
      "-25.0\n",
      "-28.0\n",
      "-26.0\n",
      "-25.0\n",
      "-26.0\n",
      "-25.0\n",
      "-26.0\n",
      "-26.0\n",
      "-28.0\n",
      "-26.0\n",
      "-24.0\n",
      "-24.0\n",
      "-25.0\n",
      "-29.0\n"
     ]
    }
   ],
   "source": [
    "for tmp in Original_mobility[:-30, 0]:\n",
    "    print(tmp)"
   ]
  },
  {
   "cell_type": "code",
   "execution_count": 52,
   "metadata": {},
   "outputs": [
    {
     "name": "stdout",
     "output_type": "stream",
     "text": [
      "2020-02-15\n",
      "2020-02-16\n",
      "2020-02-17\n",
      "2020-02-18\n",
      "2020-02-19\n",
      "2020-02-20\n",
      "2020-02-21\n",
      "2020-02-22\n",
      "2020-02-23\n",
      "2020-02-24\n",
      "2020-02-25\n",
      "2020-02-26\n",
      "2020-02-27\n",
      "2020-02-28\n",
      "2020-02-29\n",
      "2020-03-01\n",
      "2020-03-02\n",
      "2020-03-03\n",
      "2020-03-04\n",
      "2020-03-05\n",
      "2020-03-06\n",
      "2020-03-07\n",
      "2020-03-08\n",
      "2020-03-09\n",
      "2020-03-10\n",
      "2020-03-11\n",
      "2020-03-12\n",
      "2020-03-13\n",
      "2020-03-14\n",
      "2020-03-15\n",
      "2020-03-16\n",
      "2020-03-17\n",
      "2020-03-18\n",
      "2020-03-19\n",
      "2020-03-20\n",
      "2020-03-21\n",
      "2020-03-22\n",
      "2020-03-23\n",
      "2020-03-24\n",
      "2020-03-25\n",
      "2020-03-26\n",
      "2020-03-27\n",
      "2020-03-28\n",
      "2020-03-29\n",
      "2020-03-30\n",
      "2020-03-31\n",
      "2020-04-01\n",
      "2020-04-02\n",
      "2020-04-03\n",
      "2020-04-04\n",
      "2020-04-05\n",
      "2020-04-06\n",
      "2020-04-07\n",
      "2020-04-08\n",
      "2020-04-09\n",
      "2020-04-10\n",
      "2020-04-11\n",
      "2020-04-12\n",
      "2020-04-13\n",
      "2020-04-14\n",
      "2020-04-15\n",
      "2020-04-16\n",
      "2020-04-17\n",
      "2020-04-18\n",
      "2020-04-19\n",
      "2020-04-20\n",
      "2020-04-21\n",
      "2020-04-22\n",
      "2020-04-23\n",
      "2020-04-24\n",
      "2020-04-25\n",
      "2020-04-26\n",
      "2020-04-27\n",
      "2020-04-28\n",
      "2020-04-29\n",
      "2020-04-30\n",
      "2020-05-01\n",
      "2020-05-02\n",
      "2020-05-03\n",
      "2020-05-04\n",
      "2020-05-05\n",
      "2020-05-06\n",
      "2020-05-07\n",
      "2020-05-08\n",
      "2020-05-09\n",
      "2020-05-10\n",
      "2020-05-11\n",
      "2020-05-12\n",
      "2020-05-13\n",
      "2020-05-14\n",
      "2020-05-15\n",
      "2020-05-16\n",
      "2020-05-17\n",
      "2020-05-18\n",
      "2020-05-19\n",
      "2020-05-20\n",
      "2020-05-21\n",
      "2020-05-22\n",
      "2020-05-23\n",
      "2020-05-24\n",
      "2020-05-25\n",
      "2020-05-26\n",
      "2020-05-27\n",
      "2020-05-28\n",
      "2020-05-29\n",
      "2020-05-30\n",
      "2020-05-31\n",
      "2020-06-01\n",
      "2020-06-02\n",
      "2020-06-03\n",
      "2020-06-04\n",
      "2020-06-05\n",
      "2020-06-06\n",
      "2020-06-07\n",
      "2020-06-08\n",
      "2020-06-09\n",
      "2020-06-10\n",
      "2020-06-11\n",
      "2020-06-12\n",
      "2020-06-13\n",
      "2020-06-14\n",
      "2020-06-15\n",
      "2020-06-16\n",
      "2020-06-17\n",
      "2020-06-18\n",
      "2020-06-19\n",
      "2020-06-20\n",
      "2020-06-21\n",
      "2020-06-22\n",
      "2020-06-23\n",
      "2020-06-24\n",
      "2020-06-25\n",
      "2020-06-26\n",
      "2020-06-27\n",
      "2020-06-28\n",
      "2020-06-29\n",
      "2020-06-30\n",
      "2020-07-01\n",
      "2020-07-02\n",
      "2020-07-03\n",
      "2020-07-04\n",
      "2020-07-05\n",
      "2020-07-06\n",
      "2020-07-07\n",
      "2020-07-08\n",
      "2020-07-09\n",
      "2020-07-10\n",
      "2020-07-11\n",
      "2020-07-12\n",
      "2020-07-13\n",
      "2020-07-14\n",
      "2020-07-15\n",
      "2020-07-16\n",
      "2020-07-17\n",
      "2020-07-18\n",
      "2020-07-19\n",
      "2020-07-20\n",
      "2020-07-21\n",
      "2020-07-22\n",
      "2020-07-23\n",
      "2020-07-24\n",
      "2020-07-25\n",
      "2020-07-26\n",
      "2020-07-27\n",
      "2020-07-28\n",
      "2020-07-29\n",
      "2020-07-30\n",
      "2020-07-31\n",
      "2020-08-01\n",
      "2020-08-02\n",
      "2020-08-03\n",
      "2020-08-04\n",
      "2020-08-05\n",
      "2020-08-06\n",
      "2020-08-07\n",
      "2020-08-08\n",
      "2020-08-09\n",
      "2020-08-10\n",
      "2020-08-11\n"
     ]
    }
   ],
   "source": [
    "for tmp in date[:-30]:\n",
    "    print(tmp)"
   ]
  },
  {
   "cell_type": "code",
   "execution_count": 16,
   "metadata": {},
   "outputs": [
    {
     "data": {
      "text/plain": [
       "(209, 47)"
      ]
     },
     "execution_count": 16,
     "metadata": {},
     "output_type": "execute_result"
    }
   ],
   "source": [
    "X_data.shape"
   ]
  },
  {
   "cell_type": "code",
   "execution_count": 18,
   "metadata": {},
   "outputs": [],
   "source": [
    "from sklearn import datasets, ensemble\n",
    "# from sklearn.inspection import permutation_importance\n",
    "from sklearn.metrics import mean_squared_error\n",
    "from sklearn.model_selection import train_test_split\n",
    "\n",
    "params = {'n_estimators': 500,\n",
    "          'max_depth': 4,\n",
    "          'min_samples_split': 5,\n",
    "          'learning_rate': 0.01,\n",
    "          'loss': 'ls'}\n",
    "\n",
    "# reg = ensemble.GradientBoostingRegressor(**params)\n",
    "# reg.fit(X_data, y_train)"
   ]
  },
  {
   "cell_type": "code",
   "execution_count": 20,
   "metadata": {},
   "outputs": [
    {
     "data": {
      "text/plain": [
       "GradientBoostingRegressor(alpha=0.9, criterion='friedman_mse', init=None,\n",
       "             learning_rate=0.01, loss='ls', max_depth=4, max_features=None,\n",
       "             max_leaf_nodes=None, min_impurity_decrease=0.0,\n",
       "             min_impurity_split=None, min_samples_leaf=1,\n",
       "             min_samples_split=5, min_weight_fraction_leaf=0.0,\n",
       "             n_estimators=500, n_iter_no_change=None, presort='auto',\n",
       "             random_state=None, subsample=1.0, tol=0.0001,\n",
       "             validation_fraction=0.1, verbose=0, warm_start=False)"
      ]
     },
     "execution_count": 20,
     "metadata": {},
     "output_type": "execute_result"
    }
   ],
   "source": [
    "reg = ensemble.GradientBoostingRegressor(**params)\n",
    "reg.fit(X_data[:-30], mobility[:-30, 0])"
   ]
  },
  {
   "cell_type": "code",
   "execution_count": 21,
   "metadata": {
    "collapsed": true
   },
   "outputs": [],
   "source": [
    "pred = reg.predict(X_data[-30:])"
   ]
  },
  {
   "cell_type": "code",
   "execution_count": 33,
   "metadata": {},
   "outputs": [
    {
     "name": "stdout",
     "output_type": "stream",
     "text": [
      "-29.684424369901482\n",
      "-29.47506776132603\n",
      "-29.233705375329308\n",
      "-29.374935214761646\n",
      "-26.795182336679517\n",
      "-26.37970409190207\n",
      "-27.20903436031242\n",
      "-26.94649261470788\n",
      "-26.458994044326392\n",
      "-26.19645229872185\n",
      "-24.64231673107128\n",
      "-26.99325338713552\n",
      "-26.59145836525616\n",
      "-26.84726558503216\n",
      "-26.84726558503216\n",
      "-25.701285968649\n",
      "-26.113743358923603\n",
      "-25.55469342652943\n",
      "-27.00487802934404\n",
      "-26.985682704144185\n",
      "-29.228884773163486\n",
      "-26.97318101354288\n",
      "-26.82527240454152\n",
      "-26.961683526737467\n",
      "-24.984314376049735\n",
      "-26.724222408835757\n",
      "-25.898037644443413\n",
      "-29.200696860827456\n",
      "-21.526336732429062\n",
      "-21.80683135614225\n"
     ]
    }
   ],
   "source": [
    "pred = np.concatenate([pred.reshape(-1, 1), np.zeros((30, 5))], axis=1)\n",
    "pred_true = y_sc.inverse_transform(pred)\n",
    "for tmp in pred_true[:, 0]:\n",
    "    print(tmp)"
   ]
  },
  {
   "cell_type": "code",
   "execution_count": 26,
   "metadata": {},
   "outputs": [
    {
     "data": {
      "text/plain": [
       "array([-72., -34., -66.,   0., -81.,   0.])"
      ]
     },
     "execution_count": 26,
     "metadata": {},
     "output_type": "execute_result"
    }
   ],
   "source": [
    "y_sc.data_min_"
   ]
  },
  {
   "cell_type": "code",
   "execution_count": 32,
   "metadata": {},
   "outputs": [
    {
     "data": {
      "text/plain": [
       "array([[0.60450822, 0.        , 0.        , 0.        , 0.        ,\n",
       "        0.        ],\n",
       "       [0.60749903, 0.        , 0.        , 0.        , 0.        ,\n",
       "        0.        ],\n",
       "       [0.61094707, 0.        , 0.        , 0.        , 0.        ,\n",
       "        0.        ],\n",
       "       [0.6089295 , 0.        , 0.        , 0.        , 0.        ,\n",
       "        0.        ],\n",
       "       [0.64578311, 0.        , 0.        , 0.        , 0.        ,\n",
       "        0.        ],\n",
       "       [0.65171851, 0.        , 0.        , 0.        , 0.        ,\n",
       "        0.        ],\n",
       "       [0.63987094, 0.        , 0.        , 0.        , 0.        ,\n",
       "        0.        ],\n",
       "       [0.64362153, 0.        , 0.        , 0.        , 0.        ,\n",
       "        0.        ],\n",
       "       [0.6505858 , 0.        , 0.        , 0.        , 0.        ,\n",
       "        0.        ],\n",
       "       [0.6543364 , 0.        , 0.        , 0.        , 0.        ,\n",
       "        0.        ],\n",
       "       [0.67653833, 0.        , 0.        , 0.        , 0.        ,\n",
       "        0.        ],\n",
       "       [0.64295352, 0.        , 0.        , 0.        , 0.        ,\n",
       "        0.        ],\n",
       "       [0.64869345, 0.        , 0.        , 0.        , 0.        ,\n",
       "        0.        ],\n",
       "       [0.64503906, 0.        , 0.        , 0.        , 0.        ,\n",
       "        0.        ],\n",
       "       [0.64503906, 0.        , 0.        , 0.        , 0.        ,\n",
       "        0.        ],\n",
       "       [0.6614102 , 0.        , 0.        , 0.        , 0.        ,\n",
       "        0.        ],\n",
       "       [0.65551795, 0.        , 0.        , 0.        , 0.        ,\n",
       "        0.        ],\n",
       "       [0.66350438, 0.        , 0.        , 0.        , 0.        ,\n",
       "        0.        ],\n",
       "       [0.64278746, 0.        , 0.        , 0.        , 0.        ,\n",
       "        0.        ],\n",
       "       [0.64306168, 0.        , 0.        , 0.        , 0.        ,\n",
       "        0.        ],\n",
       "       [0.61101593, 0.        , 0.        , 0.        , 0.        ,\n",
       "        0.        ],\n",
       "       [0.64324027, 0.        , 0.        , 0.        , 0.        ,\n",
       "        0.        ],\n",
       "       [0.64535325, 0.        , 0.        , 0.        , 0.        ,\n",
       "        0.        ],\n",
       "       [0.64340452, 0.        , 0.        , 0.        , 0.        ,\n",
       "        0.        ],\n",
       "       [0.67165265, 0.        , 0.        , 0.        , 0.        ,\n",
       "        0.        ],\n",
       "       [0.64679682, 0.        , 0.        , 0.        , 0.        ,\n",
       "        0.        ],\n",
       "       [0.65859946, 0.        , 0.        , 0.        , 0.        ,\n",
       "        0.        ],\n",
       "       [0.61141862, 0.        , 0.        , 0.        , 0.        ,\n",
       "        0.        ],\n",
       "       [0.72105233, 0.        , 0.        , 0.        , 0.        ,\n",
       "        0.        ],\n",
       "       [0.71704527, 0.        , 0.        , 0.        , 0.        ,\n",
       "        0.        ]])"
      ]
     },
     "execution_count": 32,
     "metadata": {},
     "output_type": "execute_result"
    }
   ],
   "source": [
    "`np.concatenate([pred.reshape(-1, 1), np.zeros((30, 5))], axis=1)"
   ]
  },
  {
   "cell_type": "code",
   "execution_count": 35,
   "metadata": {},
   "outputs": [
    {
     "data": {
      "text/plain": [
       "array([[  2.,   0.,   0., ...,   0.,  -2.,   6.],\n",
       "       [  2.,   0.,   0., ...,  10., -51.,   0.],\n",
       "       [  2.,   0.,   0., ...,   2.,  -6.,   1.],\n",
       "       ...,\n",
       "       [  2.,  55.,   0., ...,  17., -62.,   2.],\n",
       "       [  2.,  55.,   0., ...,  20., -63.,   3.],\n",
       "       [  2.,  50.,   0., ...,  16., -59.,   4.]])"
      ]
     },
     "execution_count": 35,
     "metadata": {},
     "output_type": "execute_result"
    }
   ],
   "source": [
    "all_data[4]"
   ]
  },
  {
   "cell_type": "code",
   "execution_count": 40,
   "metadata": {
    "collapsed": true
   },
   "outputs": [],
   "source": [
    "model.save(\"model3.h5\")"
   ]
  },
  {
   "cell_type": "code",
   "execution_count": 3,
   "metadata": {
    "collapsed": true
   },
   "outputs": [],
   "source": [
    "from keras.utils.vis_utils import plot_model\n",
    "\n",
    "plot_model(model, to_file=\"model.png\")"
   ]
  },
  {
   "cell_type": "code",
   "execution_count": null,
   "metadata": {
    "collapsed": true
   },
   "outputs": [],
   "source": []
  }
 ],
 "metadata": {
  "kernelspec": {
   "display_name": "Python 3",
   "language": "python",
   "name": "python3"
  },
  "language_info": {
   "codemirror_mode": {
    "name": "ipython",
    "version": 3
   },
   "file_extension": ".py",
   "mimetype": "text/x-python",
   "name": "python",
   "nbconvert_exporter": "python",
   "pygments_lexer": "ipython3",
   "version": "3.6.5"
  }
 },
 "nbformat": 4,
 "nbformat_minor": 2
}
