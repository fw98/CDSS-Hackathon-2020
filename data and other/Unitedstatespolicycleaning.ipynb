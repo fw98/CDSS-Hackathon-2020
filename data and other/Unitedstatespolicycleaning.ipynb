{
 "cells": [
  {
   "cell_type": "code",
   "execution_count": 1,
   "metadata": {},
   "outputs": [],
   "source": [
    "import pandas as pd\n",
    "unitedstatespolicy=pd.read_csv('unitedstatespolicy.csv')"
   ]
  },
  {
   "cell_type": "code",
   "execution_count": 2,
   "metadata": {},
   "outputs": [],
   "source": [
    "policycolumns=['date',\n",
    " 'school_closing',\n",
    " 'school_closing_flag',\n",
    " 'workplace_closing',\n",
    " 'workplace_closing_flag',\n",
    " 'cancel_public_events',\n",
    " 'cancel_public_events_flag',\n",
    " 'restrictions_on_gatherings',\n",
    " 'restrictions_on_gatherings_flag',\n",
    " 'close_public_transit',\n",
    " 'close_public_transit_flag',\n",
    " 'stay_at_home_requirements',\n",
    " 'stay_at_home_requirements_flag',\n",
    " 'restrictions_on_internal_movement',\n",
    " 'restrictions_on_internal_movement_flag',\n",
    " 'international_travel_controls',\n",
    " 'income_support',\n",
    " 'income_support_flag',\n",
    " 'debt_contract_relief',\n",
    " 'fiscal_measures',\n",
    " 'international_support',\n",
    " 'public_information_campaigns',\n",
    " 'public_information_campaigns_flag',\n",
    " 'testing_policy',\n",
    " 'contact_tracing',\n",
    " 'emergency_healthcare_investment',\n",
    " 'vaccine_investment',\n",
    " 'misc_wildcard',\n",
    " 'confirmed_cases',\n",
    " 'deaths',\n",
    " 'stringency_index']"
   ]
  },
  {
   "cell_type": "code",
   "execution_count": 3,
   "metadata": {},
   "outputs": [],
   "source": [
    "unitedstatespolicy=unitedstatespolicy[policycolumns].sort_values('date')"
   ]
  },
  {
   "cell_type": "code",
   "execution_count": 4,
   "metadata": {},
   "outputs": [],
   "source": [
    "unitedstatespolicy['count']=unitedstatespolicy.count(axis=1)"
   ]
  },
  {
   "cell_type": "code",
   "execution_count": 6,
   "metadata": {},
   "outputs": [
    {
     "name": "stderr",
     "output_type": "stream",
     "text": [
      "//anaconda3/lib/python3.7/site-packages/ipykernel_launcher.py:4: FutureWarning: \n",
      "The current behaviour of 'Series.argmax' is deprecated, use 'idxmax'\n",
      "instead.\n",
      "The behavior of 'argmax' will be corrected to return the positional\n",
      "maximum in the future. For now, use 'series.values.argmax' or\n",
      "'np.argmax(np.array(values))' to get the position of the maximum\n",
      "row.\n",
      "  after removing the cwd from sys.path.\n"
     ]
    }
   ],
   "source": [
    "indices=[]\n",
    "for i in range(0,13992,53):\n",
    "    subset=unitedstatespolicy.iloc[i:i+53]\n",
    "    indices.append(subset['count'].argmax())"
   ]
  },
  {
   "cell_type": "code",
   "execution_count": 7,
   "metadata": {},
   "outputs": [],
   "source": [
    "unitedstatespolicy=unitedstatespolicy.loc[indices]"
   ]
  },
  {
   "cell_type": "code",
   "execution_count": 9,
   "metadata": {},
   "outputs": [],
   "source": [
    "unitedstatespolicy.to_csv('unitedstatespolicy.csv')"
   ]
  },
  {
   "cell_type": "code",
   "execution_count": null,
   "metadata": {},
   "outputs": [],
   "source": []
  }
 ],
 "metadata": {
  "kernelspec": {
   "display_name": "Python 3",
   "language": "python",
   "name": "python3"
  },
  "language_info": {
   "codemirror_mode": {
    "name": "ipython",
    "version": 3
   },
   "file_extension": ".py",
   "mimetype": "text/x-python",
   "name": "python",
   "nbconvert_exporter": "python",
   "pygments_lexer": "ipython3",
   "version": "3.7.3"
  }
 },
 "nbformat": 4,
 "nbformat_minor": 2
}
