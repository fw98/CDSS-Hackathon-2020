{
 "cells": [
  {
   "cell_type": "code",
   "execution_count": 221,
   "metadata": {},
   "outputs": [],
   "source": [
    "import pandas as pd"
   ]
  },
  {
   "cell_type": "code",
   "execution_count": 222,
   "metadata": {},
   "outputs": [],
   "source": [
    "japan=pd.read_csv('japan.csv')\n",
    "usa=pd.read_csv('usa.csv')\n",
    "france=pd.read_csv('france.csv')\n",
    "unitedkingdom=pd.read_csv('unitedkingdom.csv')\n",
    "india=pd.read_csv('india.csv')\n",
    "egypt=pd.read_csv('egypt.csv')"
   ]
  },
  {
   "cell_type": "code",
   "execution_count": 223,
   "metadata": {},
   "outputs": [],
   "source": [
    "japanpolicy=pd.read_csv('japanpolicy.csv')\n",
    "francepolicy=pd.read_csv('francepolicy.csv')\n",
    "indiapolicy=pd.read_csv('indiapolicy.csv')\n",
    "unitedkingdompolicy=pd.read_csv('unitedkingdompolicy.csv')\n",
    "unitedstatespolicy=pd.read_csv('unitedstatespolicy.csv')\n",
    "egyptpolicy=pd.read_csv('egyptpolicy.csv')"
   ]
  },
  {
   "cell_type": "code",
   "execution_count": 224,
   "metadata": {},
   "outputs": [],
   "source": [
    "policycolumns=[x for x in list(japanpolicy.columns) if not x.endswith('notes')]\n",
    "policycolumns.remove('country_name')\n",
    "policycolumns.remove('alpha_3_code')"
   ]
  },
  {
   "cell_type": "code",
   "execution_count": 225,
   "metadata": {},
   "outputs": [],
   "source": [
    "columns=['date','country_name','aggregation_level','new_confirmed', 'new_deceased', 'cumulative_confirmed', 'cumulative_deceased', 'mobility_transit_stations',\n",
    "       'mobility_retail_and_recreation', 'mobility_grocery_and_pharmacy',\n",
    "       'mobility_parks', 'mobility_residential', 'mobility_workplaces']\n",
    "columns2=['latitude',\n",
    "       'longitude', 'location_geometry', 'average_temperature_celsius',\n",
    "       'minimum_temperature_celsius', 'maximum_temperature_celsius',\n",
    "       'rainfall_mm', 'snowfall_mm']\n",
    "finalinputcolumns=columns+columns2"
   ]
  },
  {
   "cell_type": "code",
   "execution_count": 226,
   "metadata": {},
   "outputs": [],
   "source": [
    "def preprocess(inputcsv,policycsv):\n",
    "    inputcsv=inputcsv[finalinputcolumns]\n",
    "    policycsv=policycsv[policycolumns]\n",
    "    inputcsv=inputcsv.merge(policycsv,'inner','date')\n",
    "    inputcsv['mobility_transit_stations_response']=inputcsv.mobility_transit_stations.shift(-1)\n",
    "    inputcsv['mobility_retail_and_recreation_response']=inputcsv.mobility_retail_and_recreation.shift(-1)\n",
    "    inputcsv['mobility_grocery_and_pharmacy_response']=inputcsv.mobility_grocery_and_pharmacy.shift(-1)\n",
    "    inputcsv['mobility_parks_response']=inputcsv.mobility_parks.shift(-1)\n",
    "    inputcsv['mobility_residential_response']=inputcsv.mobility_residential.shift(-1)\n",
    "    inputcsv['mobility_workplaces_response']=inputcsv.mobility_workplaces.shift(-1)\n",
    "    inputcsv=inputcsv[inputcsv['date']>='2020-02-15']\n",
    "    inputcsv=inputcsv[inputcsv['date']<='2020-09-10']\n",
    "    return inputcsv"
   ]
  },
  {
   "cell_type": "code",
   "execution_count": 227,
   "metadata": {},
   "outputs": [],
   "source": [
    "japanprocessed=preprocess(japan,japanpolicy)\n",
    "franceprocessed=preprocess(france,francepolicy)\n",
    "indiaprocessed=preprocess(india,indiapolicy)\n",
    "unitedkingdomprocessed=preprocess(unitedkingdom,unitedkingdompolicy)\n",
    "unitedstatesprocessed=preprocess(usa,unitedstatespolicy)\n",
    "egyptprocessed=preprocess(egypt,egyptpolicy)"
   ]
  },
  {
   "cell_type": "code",
   "execution_count": 228,
   "metadata": {},
   "outputs": [],
   "source": [
    "japanprocessed.to_csv('japanprocessed.csv',header=True,index=False)"
   ]
  },
  {
   "cell_type": "code",
   "execution_count": 229,
   "metadata": {},
   "outputs": [],
   "source": [
    "franceprocessed.to_csv('franceprocessed.csv',header=True,index=False)"
   ]
  },
  {
   "cell_type": "code",
   "execution_count": 230,
   "metadata": {},
   "outputs": [],
   "source": [
    "indiaprocessed.to_csv('indiaprocessed.csv',header=True,index=False)"
   ]
  },
  {
   "cell_type": "code",
   "execution_count": 231,
   "metadata": {},
   "outputs": [],
   "source": [
    "unitedkingdomprocessed.to_csv('unitedkingdomprocessed.csv',header=True,index=False)"
   ]
  },
  {
   "cell_type": "code",
   "execution_count": 232,
   "metadata": {},
   "outputs": [],
   "source": [
    "unitedstatesprocessed.to_csv('unitedstatesprocessed.csv',header=True,index=False)"
   ]
  },
  {
   "cell_type": "code",
   "execution_count": 234,
   "metadata": {},
   "outputs": [],
   "source": [
    "egyptprocessed.to_csv('egyptprocessed.csv',header=True,index=False)"
   ]
  },
  {
   "cell_type": "code",
   "execution_count": null,
   "metadata": {},
   "outputs": [],
   "source": []
  }
 ],
 "metadata": {
  "kernelspec": {
   "display_name": "Python 3",
   "language": "python",
   "name": "python3"
  },
  "language_info": {
   "codemirror_mode": {
    "name": "ipython",
    "version": 3
   },
   "file_extension": ".py",
   "mimetype": "text/x-python",
   "name": "python",
   "nbconvert_exporter": "python",
   "pygments_lexer": "ipython3",
   "version": "3.7.3"
  }
 },
 "nbformat": 4,
 "nbformat_minor": 2
}
